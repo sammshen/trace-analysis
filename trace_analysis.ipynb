{
 "cells": [
  {
   "cell_type": "code",
   "execution_count": null,
   "metadata": {},
   "outputs": [],
   "source": [
    "# Utilities"
   ]
  },
  {
   "cell_type": "code",
   "execution_count": 294,
   "metadata": {},
   "outputs": [],
   "source": [
    "import numpy as np\n",
    "\n",
    "def get_cdf_xy(arr: np.array):\n",
    "    values, counts = np.unique(arr, return_counts=True)\n",
    "    y = np.cumsum(counts) / np.sum(counts)\n",
    "    return values, y\n"
   ]
  },
  {
   "cell_type": "code",
   "execution_count": 295,
   "metadata": {},
   "outputs": [],
   "source": [
    "# Configure Model and Trace Specifications\n"
   ]
  },
  {
   "cell_type": "code",
   "execution_count": 296,
   "metadata": {},
   "outputs": [],
   "source": [
    "# fill these in before starting\n",
    "# these specs are for Qwen 30B\n",
    "GB_per_tok = 0.00009150208\n",
    "# these specs are for a jsonl trace of the format\n",
    "# {\"timestamp\": \"1753825690492790285\", \"input_length\": 1296, \"output_length\": 436, \"hash_ids\": [1943776520, 3719818480, 1374022796, 2572552414, 3858544305, 813100772, 921022818, 3291968017, 3616750900, 747068305, 2139209936, 2431468410, 505121230, 2014299782, 3641269950, 2935719212, 1310587723, 3615619246, 684199143, 2865734127, 3569072129, 715014960, 3968411579, 3277477938, 3625461172, 3973057607, 3788817391, 4133828466, 810718364, 1495344022, 3284209704, 1987224378, 899414564, 1550958486, 1285110896, 1002106162, 270882012, 38297527, 1920286917, 2500114121, 2312101374]}\n",
    "# where each hash id represents 32 tokens\n",
    "toks_per_hash = 32\n"
   ]
  },
  {
   "cell_type": "code",
   "execution_count": 297,
   "metadata": {},
   "outputs": [],
   "source": [
    "# Loading and Pre-Processing\n"
   ]
  },
  {
   "cell_type": "code",
   "execution_count": 298,
   "metadata": {},
   "outputs": [
    {
     "name": "stdout",
     "output_type": "stream",
     "text": [
      "                      timestamp  input_length  output_length  \\\n",
      "0 2024-12-23 05:26:23.185372160          2278              1   \n",
      "1 2024-12-23 05:26:23.518704896          1653              1   \n",
      "2 2024-12-23 05:26:23.852037888           227              1   \n",
      "3 2024-12-23 05:26:24.185370880           227              1   \n",
      "4 2024-12-23 05:26:24.518703872           227              1   \n",
      "\n",
      "                                            hash_ids  \n",
      "0  [3154513355, 1642929395, 2603131884, 188902857...  \n",
      "1  [3154513355, 1642929395, 2603131884, 188902857...  \n",
      "2  [3154513355, 1642929395, 2603131884, 188902857...  \n",
      "3  [3154513355, 1642929395, 2603131884, 188902857...  \n",
      "4  [3154513355, 1642929395, 2603131884, 188902857...  \n"
     ]
    }
   ],
   "source": [
    "# change if needed\n",
    "trace_file_name = \"flow_gpt_trace.jsonl\"\n",
    "\n",
    "import pandas as pd\n",
    "df = pd.read_json(trace_file_name, lines=True)\n",
    "\n",
    "print(df.head())\n"
   ]
  },
  {
   "cell_type": "code",
   "execution_count": 299,
   "metadata": {},
   "outputs": [
    {
     "name": "stdout",
     "output_type": "stream",
     "text": [
      "                      timestamp  input_length  output_length  \\\n",
      "0 2024-12-23 05:26:23.185372160          2278              1   \n",
      "1 2024-12-23 05:26:23.518704896          1653              1   \n",
      "2 2024-12-23 05:26:23.852037888           227              1   \n",
      "3 2024-12-23 05:26:24.185370880           227              1   \n",
      "4 2024-12-23 05:26:24.518703872           227              1   \n",
      "\n",
      "                                            hash_ids  \n",
      "0  [3154513355, 362218388, 986937974, 47003040, 6...  \n",
      "1  [3154513355, 362218388, 986937974, 47003040, 6...  \n",
      "2  [3154513355, 362218388, 986937974, 47003040, 6...  \n",
      "3  [3154513355, 362218388, 986937974, 47003040, 6...  \n",
      "4  [3154513355, 362218388, 986937974, 47003040, 6...  \n"
     ]
    }
   ],
   "source": [
    "import hashlib\n",
    "\n",
    "# make sure the function that was used to hash the tokens into hash_ids was done in a prefix manner (or else we could see non-prefix reuse)\n",
    "def rehash(hash_ids: list[int]) -> list[int]:\n",
    "    curr_hash = hash_ids[0]\n",
    "    ret = [curr_hash]\n",
    "    for hash_id in hash_ids[1:]:\n",
    "        curr_hash = hashlib.sha256(f\"{curr_hash}{hash_id}\".encode()).hexdigest()\n",
    "        curr_hash = int(curr_hash, 16) % 1_000_000_007\n",
    "        ret.append(curr_hash)\n",
    "    return ret\n",
    "\n",
    "df[\"hash_ids\"] = df[\"hash_ids\"].apply(rehash)\n",
    "\n",
    "print(df.head())\n"
   ]
  },
  {
   "cell_type": "code",
   "execution_count": 300,
   "metadata": {},
   "outputs": [],
   "source": [
    "# Slicing out the best part of the trace (highest reuse)\n",
    "# this can be done before cloning to ensure: \n",
    "# 1. high reuse\n",
    "# 2. high CPU hit rate (requires \"exploding\" the GPU buffer)"
   ]
  },
  {
   "cell_type": "code",
   "execution_count": 301,
   "metadata": {},
   "outputs": [
    {
     "name": "stdout",
     "output_type": "stream",
     "text": [
      "Average input length: 3587.6126\n",
      "Average output length: 1.0\n"
     ]
    }
   ],
   "source": [
    "# Calculate average input and output length in order to help make an educated decision about window size\n",
    "avg_input_length = df[\"input_length\"].mean()\n",
    "avg_output_length = df[\"output_length\"].mean()\n",
    "print(f\"Average input length: {avg_input_length}\")\n",
    "print(f\"Average output length: {avg_output_length}\")"
   ]
  },
  {
   "cell_type": "code",
   "execution_count": 302,
   "metadata": {},
   "outputs": [
    {
     "name": "stdout",
     "output_type": "stream",
     "text": [
      "Max reuse: 930 hashes (29760 tokens) from 45 to 78\n",
      "The hash count in the window: 1538 hashes (49216 tokens)\n"
     ]
    }
   ],
   "source": [
    "from collections import defaultdict\n",
    "\n",
    "# Configure window_size_toks\n",
    "# number of tokens we want in our window\n",
    "window_size_toks = 50000\n",
    "window_size_hashes = window_size_toks / toks_per_hash\n",
    "\n",
    "# l inclusive, r exclusive\n",
    "l, r = 0, 0\n",
    "cur_hashes = defaultdict(int)\n",
    "cur_reuse = 0\n",
    "# cur_hash_count counts repititions\n",
    "cur_hash_count = 0\n",
    "max_l, max_r = 0, 0\n",
    "max_reuse = 0\n",
    "max_window_size = 0\n",
    "max_hash_count = 0\n",
    "while r < len(df): \n",
    "    next_req = df.iloc[r]\n",
    "    while r < len(df) and cur_hash_count < window_size_hashes:\n",
    "        next_req = df.iloc[r]\n",
    "        for hash_id in next_req[\"hash_ids\"]:\n",
    "            if hash_id in cur_hashes:\n",
    "                cur_reuse += 1\n",
    "            cur_hashes[hash_id] += 1\n",
    "            cur_hash_count += 1\n",
    "        r += 1\n",
    "    while l < r and cur_hash_count > window_size_hashes:\n",
    "        for hash_id in df.iloc[l][\"hash_ids\"]:\n",
    "            assert hash_id in cur_hashes, \"Somehow we are removing a hash twice\"\n",
    "            if cur_hashes[hash_id] > 1:\n",
    "                cur_reuse -= 1\n",
    "            cur_hashes[hash_id] -= 1\n",
    "            cur_hash_count -= 1\n",
    "            if cur_hashes[hash_id] == 0:\n",
    "                del cur_hashes[hash_id]\n",
    "        l += 1\n",
    "    if cur_reuse > max_reuse:\n",
    "        max_reuse = cur_reuse\n",
    "        max_l, max_r = l, r\n",
    "        max_hash_count = cur_hash_count\n",
    "\n",
    "print(f\"Max reuse: {max_reuse} hashes ({max_reuse * toks_per_hash} tokens) from {max_l} to {max_r}\")\n",
    "print(f\"The hash count in the window: {max_hash_count} hashes ({max_hash_count * toks_per_hash} tokens)\")\n",
    "\n"
   ]
  },
  {
   "cell_type": "code",
   "execution_count": 303,
   "metadata": {},
   "outputs": [
    {
     "name": "stdout",
     "output_type": "stream",
     "text": [
      "Slicing from 45 to 78 out of total indices: 10000\n",
      "Sliced df saved to sliced_flow_gpt_trace.jsonl\n",
      "                       timestamp  input_length  output_length  \\\n",
      "45 2024-12-23 05:26:38.185357056          1311              1   \n",
      "46 2024-12-23 05:26:38.518690048          1298              1   \n",
      "47 2024-12-23 05:26:38.852022784          1759              1   \n",
      "48 2024-12-23 05:26:39.185355776          1363              1   \n",
      "49 2024-12-23 05:26:39.518689024          1583              1   \n",
      "\n",
      "                                             hash_ids  \n",
      "45  [3154513355, 1642929395, 2603131884, 188902857...  \n",
      "46  [3154513355, 1642929395, 2603131884, 188902857...  \n",
      "47  [3154513355, 1642929395, 2603131884, 188902857...  \n",
      "48  [3154513355, 1642929395, 2603131884, 188902857...  \n",
      "49  [3154513355, 1642929395, 2603131884, 188902857...  \n"
     ]
    }
   ],
   "source": [
    "# Optional: persist the sliced df going forward (compatible with cloning)\n",
    "df = pd.read_json(trace_file_name, lines=True)\n",
    "print(f\"Slicing from {max_l} to {max_r} out of total indices: {len(df)}\")\n",
    "df = df.iloc[max_l:max_r]\n",
    "df.to_json(f\"sliced_{trace_file_name}\", lines=True, orient=\"records\")\n",
    "print(f\"Sliced df saved to {f'sliced_{trace_file_name}'}\")\n",
    "print(df.head())"
   ]
  },
  {
   "cell_type": "code",
   "execution_count": 304,
   "metadata": {},
   "outputs": [],
   "source": [
    "# Cloning (Optional)\n"
   ]
  },
  {
   "cell_type": "code",
   "execution_count": 305,
   "metadata": {},
   "outputs": [
    {
     "name": "stdout",
     "output_type": "stream",
     "text": [
      "len of df before: 33\n"
     ]
    },
    {
     "name": "stdout",
     "output_type": "stream",
     "text": [
      "len of df after: 3993\n",
      "                      timestamp  input_length  output_length  \\\n",
      "0 2024-12-23 05:26:38.185357056          1311              1   \n",
      "1 2024-12-23 05:26:38.185357061          1311              1   \n",
      "2 2024-12-23 05:26:38.185357066          1311              1   \n",
      "3 2024-12-23 05:26:38.185357071          1311              1   \n",
      "4 2024-12-23 05:26:38.185357076          1311              1   \n",
      "\n",
      "                                            hash_ids  \n",
      "0  [3154513355, 1642929395, 2603131884, 188902857...  \n",
      "1  [3154513356, 1642929396, 2603131885, 188902857...  \n",
      "2  [3154513357, 1642929397, 2603131886, 188902857...  \n",
      "3  [3154513358, 1642929398, 2603131887, 188902857...  \n",
      "4  [3154513359, 1642929399, 2603131888, 188902857...  \n"
     ]
    }
   ],
   "source": [
    "import copy\n",
    "from functools import partial\n",
    "import pandas as pd\n",
    "\n",
    "# Play around with this number\n",
    "num_clones = 120\n",
    "\n",
    "def clone_users(df: pd.DataFrame, clone_count: int) -> pd.DataFrame: \n",
    "    def add_time(time, inc: int):\n",
    "        after_time = time + pd.Timedelta(inc, unit=\"ns\")\n",
    "        return after_time\n",
    "    def inc_hash_ids(hash_ids: list[int], inc: int) -> list[int]:\n",
    "        new_hash_ids = []\n",
    "        for hash_id in hash_ids: \n",
    "            new_hash_ids.append(hash_id + inc)\n",
    "        return new_hash_ids\n",
    "    \n",
    "    # Create a list to hold all rows (original + clones)\n",
    "    all_rows = []\n",
    "    \n",
    "    # For each original row, create its clones and add them together\n",
    "    for idx, row in df.iterrows():\n",
    "        # Add the original row\n",
    "        all_rows.append(row)\n",
    "        \n",
    "        # Add clones of this row\n",
    "        for i in range(1, clone_count + 1):\n",
    "            cloned_row = row.copy()\n",
    "            # Modify timestamp\n",
    "            cloned_row[\"timestamp\"] = add_time(row[\"timestamp\"], 5*i)\n",
    "            # Modify hash_ids\n",
    "            cloned_row[\"hash_ids\"] = inc_hash_ids(row[\"hash_ids\"], i)\n",
    "            all_rows.append(cloned_row)\n",
    "    \n",
    "    # Create new dataframe from all rows\n",
    "    new_df = pd.DataFrame(all_rows).reset_index(drop=True)\n",
    "    return new_df\n",
    "\n",
    "print(f\"len of df before: {len(df)}\")\n",
    "df = clone_users(df, num_clones)\n",
    "df = df.sort_values(by='timestamp').reset_index(drop=True)\n",
    "print(f\"len of df after: {len(df)}\")\n",
    "print(df.head())\n"
   ]
  },
  {
   "cell_type": "code",
   "execution_count": 306,
   "metadata": {},
   "outputs": [
    {
     "name": "stdout",
     "output_type": "stream",
     "text": [
      "Sliced and cloned df saved to sliced_flow_gpt_trace_120_clones.jsonl\n"
     ]
    }
   ],
   "source": [
    "# Warning: this cell is not idempotent\n",
    "\n",
    "# save the cloned \n",
    "# recommended to run this cell after all of the analysis below (shows a low reuse rate for size of vLLM VRAM buffer)\n",
    "df.to_json(f\"sliced_{trace_file_name.strip('.jsonl')}_{num_clones}_clones.jsonl\", lines=True, orient=\"records\")\n",
    "print(f\"Sliced and cloned df saved to {f'sliced_{trace_file_name.strip('.jsonl')}_{num_clones}_clones.jsonl'}\")"
   ]
  },
  {
   "cell_type": "code",
   "execution_count": 307,
   "metadata": {},
   "outputs": [],
   "source": [
    "# Statistics\n",
    "\n",
    "# Please specify the Cache Size for which you want to compile statistics\n"
   ]
  },
  {
   "cell_type": "code",
   "execution_count": 315,
   "metadata": {},
   "outputs": [],
   "source": [
    "# if you want LMCache hit rate, you can use the following heuristic: \n",
    "# 1. calculate the hit rate with the vllm prefix cache size\n",
    "# 2. calculate the hit rate with the LMCache size\n",
    "# subtract the two to get the hit rate difference and that should be the true LMCache hit rate\n",
    "\n",
    "\n",
    "# Please specify the number you want to try here\n",
    "cache_GB = 80\n"
   ]
  },
  {
   "cell_type": "code",
   "execution_count": 316,
   "metadata": {},
   "outputs": [],
   "source": [
    "from collections import OrderedDict\n",
    "\n",
    "class ChunkCache:\n",
    "    def __init__(self, capacity: int):\n",
    "        self.chunk_db = OrderedDict()\n",
    "        # capacity in chunks\n",
    "        self.capacity = capacity\n",
    "        self.chunks = 0\n",
    "        self.hash_counter = 0\n",
    "        self.hash_distances = []\n",
    "    def on_new_chunk(self, chunk: int) -> bool:\n",
    "        self.hash_counter += 1\n",
    "        if chunk in self.chunk_db:\n",
    "            self.chunk_db.move_to_end(chunk)\n",
    "            hash_id_distance = self.hash_counter - self.chunk_db[chunk]\n",
    "            self.hash_distances.append(hash_id_distance)\n",
    "            self.chunk_db[chunk] = self.hash_counter\n",
    "            return True\n",
    "        self.chunk_db[chunk] = self.hash_counter\n",
    "        self.chunks += 1\n",
    "        if self.chunks > self.capacity:\n",
    "            # LRU (remove oldest)\n",
    "            self.chunk_db.popitem(last=False)\n",
    "            self.chunks -= 1\n",
    "        return False\n"
   ]
  },
  {
   "cell_type": "code",
   "execution_count": 317,
   "metadata": {},
   "outputs": [
    {
     "name": "stdout",
     "output_type": "stream",
     "text": [
      "With a cache size of 80 GB, your model can hold 874297 tokens, which is 27321 32-token chunks\n"
     ]
    }
   ],
   "source": [
    "tok_capacity = int(cache_GB / GB_per_tok)\n",
    "chunk_capacity = int(tok_capacity / toks_per_hash)\n",
    "\n",
    "print(f\"With a cache size of {cache_GB} GB, your model can hold {tok_capacity} tokens, which is {chunk_capacity} {toks_per_hash}-token chunks\")\n"
   ]
  },
  {
   "cell_type": "code",
   "execution_count": 318,
   "metadata": {},
   "outputs": [],
   "source": [
    "def process_hash_ids(chunk_cache: ChunkCache, hash_ids: list[int]) -> float: \n",
    "    hit_count = 0\n",
    "    for hash_id in hash_ids: \n",
    "        has_hit = chunk_cache.on_new_chunk(hash_id)\n",
    "        if has_hit:\n",
    "            hit_count += 1\n",
    "    return hit_count\n"
   ]
  },
  {
   "cell_type": "code",
   "execution_count": 319,
   "metadata": {},
   "outputs": [
    {
     "data": {
      "text/html": [
       "<div>\n",
       "<style scoped>\n",
       "    .dataframe tbody tr th:only-of-type {\n",
       "        vertical-align: middle;\n",
       "    }\n",
       "\n",
       "    .dataframe tbody tr th {\n",
       "        vertical-align: top;\n",
       "    }\n",
       "\n",
       "    .dataframe thead th {\n",
       "        text-align: right;\n",
       "    }\n",
       "</style>\n",
       "<table border=\"1\" class=\"dataframe\">\n",
       "  <thead>\n",
       "    <tr style=\"text-align: right;\">\n",
       "      <th></th>\n",
       "      <th>hit_count</th>\n",
       "      <th>theoretical_hit_count</th>\n",
       "      <th>total_count</th>\n",
       "      <th>hit_rate</th>\n",
       "      <th>theoretical_hit_rate</th>\n",
       "    </tr>\n",
       "  </thead>\n",
       "  <tbody>\n",
       "    <tr>\n",
       "      <th>count</th>\n",
       "      <td>3993.000000</td>\n",
       "      <td>3993.000000</td>\n",
       "      <td>3993.000000</td>\n",
       "      <td>3993.000000</td>\n",
       "      <td>3993.000000</td>\n",
       "    </tr>\n",
       "    <tr>\n",
       "      <th>mean</th>\n",
       "      <td>28.000000</td>\n",
       "      <td>28.303030</td>\n",
       "      <td>46.606061</td>\n",
       "      <td>0.567496</td>\n",
       "      <td>0.572835</td>\n",
       "    </tr>\n",
       "    <tr>\n",
       "      <th>std</th>\n",
       "      <td>26.145079</td>\n",
       "      <td>25.936127</td>\n",
       "      <td>21.336866</td>\n",
       "      <td>0.376079</td>\n",
       "      <td>0.372386</td>\n",
       "    </tr>\n",
       "    <tr>\n",
       "      <th>min</th>\n",
       "      <td>0.000000</td>\n",
       "      <td>0.000000</td>\n",
       "      <td>13.000000</td>\n",
       "      <td>0.000000</td>\n",
       "      <td>0.000000</td>\n",
       "    </tr>\n",
       "    <tr>\n",
       "      <th>25%</th>\n",
       "      <td>5.000000</td>\n",
       "      <td>5.000000</td>\n",
       "      <td>28.000000</td>\n",
       "      <td>0.200000</td>\n",
       "      <td>0.200000</td>\n",
       "    </tr>\n",
       "    <tr>\n",
       "      <th>50%</th>\n",
       "      <td>13.000000</td>\n",
       "      <td>14.000000</td>\n",
       "      <td>50.000000</td>\n",
       "      <td>0.684211</td>\n",
       "      <td>0.684211</td>\n",
       "    </tr>\n",
       "    <tr>\n",
       "      <th>75%</th>\n",
       "      <td>58.000000</td>\n",
       "      <td>58.000000</td>\n",
       "      <td>60.000000</td>\n",
       "      <td>0.966667</td>\n",
       "      <td>0.966667</td>\n",
       "    </tr>\n",
       "    <tr>\n",
       "      <th>max</th>\n",
       "      <td>89.000000</td>\n",
       "      <td>89.000000</td>\n",
       "      <td>90.000000</td>\n",
       "      <td>1.000000</td>\n",
       "      <td>1.000000</td>\n",
       "    </tr>\n",
       "  </tbody>\n",
       "</table>\n",
       "</div>"
      ],
      "text/plain": [
       "         hit_count  theoretical_hit_count  total_count     hit_rate  \\\n",
       "count  3993.000000            3993.000000  3993.000000  3993.000000   \n",
       "mean     28.000000              28.303030    46.606061     0.567496   \n",
       "std      26.145079              25.936127    21.336866     0.376079   \n",
       "min       0.000000               0.000000    13.000000     0.000000   \n",
       "25%       5.000000               5.000000    28.000000     0.200000   \n",
       "50%      13.000000              14.000000    50.000000     0.684211   \n",
       "75%      58.000000              58.000000    60.000000     0.966667   \n",
       "max      89.000000              89.000000    90.000000     1.000000   \n",
       "\n",
       "       theoretical_hit_rate  \n",
       "count           3993.000000  \n",
       "mean               0.572835  \n",
       "std                0.372386  \n",
       "min                0.000000  \n",
       "25%                0.200000  \n",
       "50%                0.684211  \n",
       "75%                0.966667  \n",
       "max                1.000000  "
      ]
     },
     "execution_count": 319,
     "metadata": {},
     "output_type": "execute_result"
    }
   ],
   "source": [
    "from functools import partial\n",
    "theoretical_chunk_cache = ChunkCache(1000000000)\n",
    "global_chunk_cache = ChunkCache(chunk_capacity)\n",
    "theoretical_process_func = partial(process_hash_ids, theoretical_chunk_cache)\n",
    "process_func = partial(process_hash_ids, global_chunk_cache)\n",
    "\n",
    "df[\"hit_count\"] = df[\"hash_ids\"].apply(process_func)\n",
    "df[\"theoretical_hit_count\"] = df[\"hash_ids\"].apply(theoretical_process_func)\n",
    "df[\"total_count\"] = df[\"hash_ids\"].apply(len)\n",
    "df[\"hit_rate\"] = df[\"hit_count\"] / df[\"total_count\"]\n",
    "df[\"theoretical_hit_rate\"] = df[\"theoretical_hit_count\"] / df[\"total_count\"]\n",
    "\n",
    "df[[\"hit_count\", \"theoretical_hit_count\", \"total_count\", \"hit_rate\", \"theoretical_hit_rate\"]].describe()\n"
   ]
  },
  {
   "cell_type": "code",
   "execution_count": 320,
   "metadata": {},
   "outputs": [
    {
     "data": {
      "image/png": "[encoded data removed]",
      "text/plain": [
       "<Figure size 640x480 with 1 Axes>"
      ]
     },
     "metadata": {},
     "output_type": "display_data"
    },
    {
     "data": {
      "image/png": "[encoded data removed]",
      "text/plain": [
       "<Figure size 640x480 with 1 Axes>"
      ]
     },
     "metadata": {},
     "output_type": "display_data"
    },
    {
     "data": {
      "image/png": "[encoded data removed]",
      "text/plain": [
       "<Figure size 640x480 with 1 Axes>"
      ]
     },
     "metadata": {},
     "output_type": "display_data"
    }
   ],
   "source": [
    "# Plot CDF for hash distances, token distances, and GB distances\n",
    "\n",
    "from matplotlib import pyplot as plt\n",
    "import numpy as np\n",
    "\n",
    "hash_distances = np.sort(np.array(global_chunk_cache.hash_distances))\n",
    "theoretical_hash_distances = np.sort(np.array(theoretical_chunk_cache.hash_distances))\n",
    "token_distances = hash_distances * 32\n",
    "theoretical_token_distances = theoretical_hash_distances * 32\n",
    "gb_distances = token_distances * GB_per_tok\n",
    "theoretical_gb_distances = theoretical_token_distances * GB_per_tok\n",
    "\n",
    "# plot the CDF of the hash distances\n",
    "plt.plot(*get_cdf_xy(hash_distances))\n",
    "plt.plot(*get_cdf_xy(theoretical_hash_distances))\n",
    "plt.xlabel(\"hash distances (hashes between hash hits)\")\n",
    "plt.ylabel(\"CDF\")\n",
    "plt.xscale(\"log\")\n",
    "plt.legend([\"Global Cache\", \"Theoretical Cache\"])\n",
    "plt.show()\n",
    "\n",
    "# plot the CDF of the token distances\n",
    "plt.plot(*get_cdf_xy(token_distances))\n",
    "plt.plot(*get_cdf_xy(theoretical_token_distances))\n",
    "plt.xlabel(\"token distances (tokens between hash hits)\")\n",
    "plt.ylabel(\"CDF\")\n",
    "plt.xscale(\"log\")\n",
    "plt.legend([\"Global Cache\", \"Theoretical Cache\"])\n",
    "plt.show()\n",
    "\n",
    "# plot the CDF of the GB distances\n",
    "plt.plot(*get_cdf_xy(gb_distances)) \n",
    "plt.plot(*get_cdf_xy(theoretical_gb_distances))\n",
    "plt.xlabel(\"GB distances (GBs between hash hits for Qwen 30B)\")\n",
    "plt.ylabel(\"CDF\")\n",
    "plt.xscale(\"log\")\n",
    "plt.legend([\"Global Cache\", \"Theoretical Cache\"])\n",
    "plt.show()\n"
   ]
  },
  {
   "cell_type": "code",
   "execution_count": 321,
   "metadata": {},
   "outputs": [
    {
     "name": "stdout",
     "output_type": "stream",
     "text": [
      "With a cache size of 80 GB, you will be able to achieve 96.79% of the total theoretical reuse\n",
      "If your cache size is for vllm, you should aim for <10% theoretical reuse\n",
      "If your cache size is for LMCache, you should aim for >90% theoretical reuse\n"
     ]
    }
   ],
   "source": [
    "# Calculate the percentage of reuse that can be captured with the given cache size\n",
    "theoretical_gb_distances = np.array(theoretical_chunk_cache.hash_distances) * toks_per_hash * GB_per_tok\n",
    "\n",
    "# Find what percentage of hash hits have a distance <= cache_GB\n",
    "hits_within_cache = np.sum(theoretical_gb_distances <= cache_GB)\n",
    "total_hits = len(theoretical_gb_distances)\n",
    "percentage_reuse = (hits_within_cache / total_hits) * 100\n",
    "\n",
    "print(f\"With a cache size of {cache_GB} GB, you will be able to achieve {percentage_reuse:.2f}% of the total theoretical reuse\")\n",
    "print(f\"If your cache size is for vllm, you should aim for <10% theoretical reuse\")\n",
    "print(f\"If your cache size is for LMCache, you should aim for >90% theoretical reuse\")\n"
   ]
  },
  {
   "cell_type": "code",
   "execution_count": null,
   "metadata": {},
   "outputs": [],
   "source": []
  }
 ],
 "metadata": {
  "kernelspec": {
   "display_name": "gmi_venv",
   "language": "python",
   "name": "python3"
  },
  "language_info": {
   "codemirror_mode": {
    "name": "ipython",
    "version": 3
   },
   "file_extension": ".py",
   "mimetype": "text/x-python",
   "name": "python",
   "nbconvert_exporter": "python",
   "pygments_lexer": "ipython3",
   "version": "3.12.11"
  }
 },
 "nbformat": 4,
 "nbformat_minor": 2
}
